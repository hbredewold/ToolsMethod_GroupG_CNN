{
 "cells": [
  {
   "cell_type": "code",
   "execution_count": 1,
   "id": "6b45b095-92fe-4c4a-ab64-cae821bb3eb2",
   "metadata": {},
   "outputs": [],
   "source": [
    "import pandas as pd"
   ]
  },
  {
   "cell_type": "code",
   "execution_count": 2,
   "id": "266d8c5d-29e0-4bf8-875f-d6fe0df461d3",
   "metadata": {},
   "outputs": [],
   "source": [
    "i_p_df = pd.read_csv('israel_palestine_conflict.csv', encoding = 'utf-8')"
   ]
  },
  {
   "cell_type": "code",
   "execution_count": 4,
   "id": "6ee91750-7db8-4c8c-aa51-29dcec4cdbd6",
   "metadata": {},
   "outputs": [
    {
     "data": {
      "text/html": [
       "<div>\n",
       "<style scoped>\n",
       "    .dataframe tbody tr th:only-of-type {\n",
       "        vertical-align: middle;\n",
       "    }\n",
       "\n",
       "    .dataframe tbody tr th {\n",
       "        vertical-align: top;\n",
       "    }\n",
       "\n",
       "    .dataframe thead th {\n",
       "        text-align: right;\n",
       "    }\n",
       "</style>\n",
       "<table border=\"1\" class=\"dataframe\">\n",
       "  <thead>\n",
       "    <tr style=\"text-align: right;\">\n",
       "      <th></th>\n",
       "      <th>Date</th>\n",
       "      <th>Headline</th>\n",
       "      <th>Link</th>\n",
       "    </tr>\n",
       "  </thead>\n",
       "  <tbody>\n",
       "    <tr>\n",
       "      <th>0</th>\n",
       "      <td>2023-12-07</td>\n",
       "      <td>Desperate families of Israeli-American hostage...</td>\n",
       "      <td>https://www.cnn.com/2023/12/07/politics/famili...</td>\n",
       "    </tr>\n",
       "    <tr>\n",
       "      <th>1</th>\n",
       "      <td>2023-12-07</td>\n",
       "      <td>Opinion: I reported on Hamas in Gaza for over ...</td>\n",
       "      <td>https://www.cnn.com/2023/12/07/opinions/israel...</td>\n",
       "    </tr>\n",
       "    <tr>\n",
       "      <th>2</th>\n",
       "      <td>2023-12-07</td>\n",
       "      <td>Meta’s Oversight Board to weigh in on company’...</td>\n",
       "      <td>https://www.cnn.com/2023/12/07/tech/meta-overs...</td>\n",
       "    </tr>\n",
       "    <tr>\n",
       "      <th>3</th>\n",
       "      <td>2023-12-07</td>\n",
       "      <td>December 5, 2023 Israel-Hamas war</td>\n",
       "      <td>https://www.cnn.com/middleeast/live-news/israe...</td>\n",
       "    </tr>\n",
       "    <tr>\n",
       "      <th>4</th>\n",
       "      <td>2023-12-07</td>\n",
       "      <td>December 6, 2023 Israel-Hamas war</td>\n",
       "      <td>https://www.cnn.com/middleeast/live-news/israe...</td>\n",
       "    </tr>\n",
       "  </tbody>\n",
       "</table>\n",
       "</div>"
      ],
      "text/plain": [
       "         Date                                           Headline  \\\n",
       "0  2023-12-07  Desperate families of Israeli-American hostage...   \n",
       "1  2023-12-07  Opinion: I reported on Hamas in Gaza for over ...   \n",
       "2  2023-12-07  Meta’s Oversight Board to weigh in on company’...   \n",
       "3  2023-12-07                  December 5, 2023 Israel-Hamas war   \n",
       "4  2023-12-07                  December 6, 2023 Israel-Hamas war   \n",
       "\n",
       "                                                Link  \n",
       "0  https://www.cnn.com/2023/12/07/politics/famili...  \n",
       "1  https://www.cnn.com/2023/12/07/opinions/israel...  \n",
       "2  https://www.cnn.com/2023/12/07/tech/meta-overs...  \n",
       "3  https://www.cnn.com/middleeast/live-news/israe...  \n",
       "4  https://www.cnn.com/middleeast/live-news/israe...  "
      ]
     },
     "execution_count": 4,
     "metadata": {},
     "output_type": "execute_result"
    }
   ],
   "source": [
    "i_p_df.head()"
   ]
  },
  {
   "cell_type": "code",
   "execution_count": 5,
   "id": "1927451f-e2ab-4bda-a5f3-a02e5c24c672",
   "metadata": {},
   "outputs": [],
   "source": [
    "israel_palestine_titles_only = i_p_df['Headline']"
   ]
  },
  {
   "cell_type": "code",
   "execution_count": 6,
   "id": "1482ad0f-0462-40fb-acb6-6bf6accb7839",
   "metadata": {},
   "outputs": [
    {
     "data": {
      "text/plain": [
       "0      Desperate families of Israeli-American hostage...\n",
       "1      Opinion: I reported on Hamas in Gaza for over ...\n",
       "2      Meta’s Oversight Board to weigh in on company’...\n",
       "3                      December 5, 2023 Israel-Hamas war\n",
       "4                      December 6, 2023 Israel-Hamas war\n",
       "                             ...                        \n",
       "642    US still seeking to determine Iran’s connectio...\n",
       "643    Pressure to fill House speaker vacancy builds ...\n",
       "644    UEFA postpones soccer matches in Israel due to...\n",
       "645    House lawmakers discuss how to address intelli...\n",
       "646    UPenn donors were furious about the Palestine ...\n",
       "Name: Headline, Length: 647, dtype: object"
      ]
     },
     "execution_count": 6,
     "metadata": {},
     "output_type": "execute_result"
    }
   ],
   "source": [
    "israel_palestine_titles_only"
   ]
  },
  {
   "cell_type": "code",
   "execution_count": 7,
   "id": "130a0217-1706-430b-b840-90549818d4c2",
   "metadata": {},
   "outputs": [],
   "source": [
    "israel_palestine_titles_only.to_csv('israel_palestine.txt', sep='\\t', index=False)"
   ]
  },
  {
   "cell_type": "code",
   "execution_count": 8,
   "id": "4b4b70a8-bdd1-4ee1-b6ea-3d6784158161",
   "metadata": {},
   "outputs": [
    {
     "data": {
      "text/html": [
       "<div>\n",
       "<style scoped>\n",
       "    .dataframe tbody tr th:only-of-type {\n",
       "        vertical-align: middle;\n",
       "    }\n",
       "\n",
       "    .dataframe tbody tr th {\n",
       "        vertical-align: top;\n",
       "    }\n",
       "\n",
       "    .dataframe thead th {\n",
       "        text-align: right;\n",
       "    }\n",
       "</style>\n",
       "<table border=\"1\" class=\"dataframe\">\n",
       "  <thead>\n",
       "    <tr style=\"text-align: right;\">\n",
       "      <th></th>\n",
       "      <th>Date</th>\n",
       "      <th>Headline</th>\n",
       "      <th>Link</th>\n",
       "    </tr>\n",
       "  </thead>\n",
       "  <tbody>\n",
       "    <tr>\n",
       "      <th>0</th>\n",
       "      <td>2022-04-23</td>\n",
       "      <td>Why India can buy Russian oil, and still be fr...</td>\n",
       "      <td>https://www.cnn.com/2022/04/22/india/india-us-...</td>\n",
       "    </tr>\n",
       "    <tr>\n",
       "      <th>1</th>\n",
       "      <td>2022-04-22</td>\n",
       "      <td>4 ways Russia is trying to prove it can live w...</td>\n",
       "      <td>https://www.cnn.com/2022/04/22/business/russia...</td>\n",
       "    </tr>\n",
       "    <tr>\n",
       "      <th>2</th>\n",
       "      <td>2022-04-22</td>\n",
       "      <td>Russian tennis star Andrey Rublev says Wimbled...</td>\n",
       "      <td>https://www.cnn.com/2022/04/22/tennis/andrey-r...</td>\n",
       "    </tr>\n",
       "    <tr>\n",
       "      <th>3</th>\n",
       "      <td>2022-04-22</td>\n",
       "      <td>Russian troops use rape as ‘an instrument of w...</td>\n",
       "      <td>https://www.cnn.com/2022/04/22/europe/ukraine-...</td>\n",
       "    </tr>\n",
       "    <tr>\n",
       "      <th>4</th>\n",
       "      <td>2022-04-22</td>\n",
       "      <td>Some big Indian businesses are joining the exo...</td>\n",
       "      <td>https://www.cnn.com/2022/04/21/business/india-...</td>\n",
       "    </tr>\n",
       "  </tbody>\n",
       "</table>\n",
       "</div>"
      ],
      "text/plain": [
       "         Date                                           Headline  \\\n",
       "0  2022-04-23  Why India can buy Russian oil, and still be fr...   \n",
       "1  2022-04-22  4 ways Russia is trying to prove it can live w...   \n",
       "2  2022-04-22  Russian tennis star Andrey Rublev says Wimbled...   \n",
       "3  2022-04-22  Russian troops use rape as ‘an instrument of w...   \n",
       "4  2022-04-22  Some big Indian businesses are joining the exo...   \n",
       "\n",
       "                                                Link  \n",
       "0  https://www.cnn.com/2022/04/22/india/india-us-...  \n",
       "1  https://www.cnn.com/2022/04/22/business/russia...  \n",
       "2  https://www.cnn.com/2022/04/22/tennis/andrey-r...  \n",
       "3  https://www.cnn.com/2022/04/22/europe/ukraine-...  \n",
       "4  https://www.cnn.com/2022/04/21/business/india-...  "
      ]
     },
     "execution_count": 8,
     "metadata": {},
     "output_type": "execute_result"
    }
   ],
   "source": [
    "r_u_df = pd.read_csv('russia_ukraine_conflict.csv', encoding = 'utf-8')\n",
    "r_u_df.head()"
   ]
  },
  {
   "cell_type": "code",
   "execution_count": 9,
   "id": "037c08ed-2dc6-480b-a29b-c28f91805d6b",
   "metadata": {},
   "outputs": [],
   "source": [
    "russia_palestine_titles = r_u_df['Headline']"
   ]
  },
  {
   "cell_type": "code",
   "execution_count": 10,
   "id": "c769a2da-8750-4e9a-bc40-dbb57ec30631",
   "metadata": {},
   "outputs": [],
   "source": [
    "russia_palestine_titles.to_csv('russia_ukraine.txt' , sep='\\t', index=False)"
   ]
  },
  {
   "cell_type": "code",
   "execution_count": null,
   "id": "b215e105-08fc-4ec2-9e69-5b2978cdaabb",
   "metadata": {},
   "outputs": [],
   "source": []
  }
 ],
 "metadata": {
  "kernelspec": {
   "display_name": "Python 3 (ipykernel)",
   "language": "python",
   "name": "python3"
  },
  "language_info": {
   "codemirror_mode": {
    "name": "ipython",
    "version": 3
   },
   "file_extension": ".py",
   "mimetype": "text/x-python",
   "name": "python",
   "nbconvert_exporter": "python",
   "pygments_lexer": "ipython3",
   "version": "3.11.4"
  }
 },
 "nbformat": 4,
 "nbformat_minor": 5
}
