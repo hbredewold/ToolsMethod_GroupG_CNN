{
 "cells": [
  {
   "cell_type": "code",
   "execution_count": 2,
   "id": "943fa04d",
   "metadata": {},
   "outputs": [],
   "source": [
    "import pandas as pd"
   ]
  },
  {
   "cell_type": "code",
   "execution_count": 4,
   "id": "26f1a516",
   "metadata": {},
   "outputs": [],
   "source": [
    "i_p_df = pd.read_csv('project_data/israel_palestine_conflict.csv', encoding = 'utf-8')"
   ]
  },
  {
   "cell_type": "code",
   "execution_count": null,
   "id": "b5f5db71",
   "metadata": {},
   "outputs": [],
   "source": []
  },
  {
   "cell_type": "code",
   "execution_count": 36,
   "id": "a771b02d",
   "metadata": {},
   "outputs": [
    {
     "data": {
      "text/html": [
       "<div>\n",
       "<style scoped>\n",
       "    .dataframe tbody tr th:only-of-type {\n",
       "        vertical-align: middle;\n",
       "    }\n",
       "\n",
       "    .dataframe tbody tr th {\n",
       "        vertical-align: top;\n",
       "    }\n",
       "\n",
       "    .dataframe thead th {\n",
       "        text-align: right;\n",
       "    }\n",
       "</style>\n",
       "<table border=\"1\" class=\"dataframe\">\n",
       "  <thead>\n",
       "    <tr style=\"text-align: right;\">\n",
       "      <th></th>\n",
       "      <th>Date</th>\n",
       "      <th>Headline</th>\n",
       "      <th>Link</th>\n",
       "    </tr>\n",
       "  </thead>\n",
       "  <tbody>\n",
       "    <tr>\n",
       "      <th>0</th>\n",
       "      <td>2023-12-07</td>\n",
       "      <td>Desperate families of Israeli-American hostage...</td>\n",
       "      <td>https://www.cnn.com/2023/12/07/politics/famili...</td>\n",
       "    </tr>\n",
       "    <tr>\n",
       "      <th>1</th>\n",
       "      <td>2023-12-07</td>\n",
       "      <td>Opinion: I reported on Hamas in Gaza for over ...</td>\n",
       "      <td>https://www.cnn.com/2023/12/07/opinions/israel...</td>\n",
       "    </tr>\n",
       "    <tr>\n",
       "      <th>2</th>\n",
       "      <td>2023-12-07</td>\n",
       "      <td>Meta’s Oversight Board to weigh in on company’...</td>\n",
       "      <td>https://www.cnn.com/2023/12/07/tech/meta-overs...</td>\n",
       "    </tr>\n",
       "    <tr>\n",
       "      <th>3</th>\n",
       "      <td>2023-12-07</td>\n",
       "      <td>December 5, 2023 Israel-Hamas war</td>\n",
       "      <td>https://www.cnn.com/middleeast/live-news/israe...</td>\n",
       "    </tr>\n",
       "    <tr>\n",
       "      <th>4</th>\n",
       "      <td>2023-12-07</td>\n",
       "      <td>December 6, 2023 Israel-Hamas war</td>\n",
       "      <td>https://www.cnn.com/middleeast/live-news/israe...</td>\n",
       "    </tr>\n",
       "  </tbody>\n",
       "</table>\n",
       "</div>"
      ],
      "text/plain": [
       "         Date                                           Headline  \\\n",
       "0  2023-12-07  Desperate families of Israeli-American hostage...   \n",
       "1  2023-12-07  Opinion: I reported on Hamas in Gaza for over ...   \n",
       "2  2023-12-07  Meta’s Oversight Board to weigh in on company’...   \n",
       "3  2023-12-07                  December 5, 2023 Israel-Hamas war   \n",
       "4  2023-12-07                  December 6, 2023 Israel-Hamas war   \n",
       "\n",
       "                                                Link  \n",
       "0  https://www.cnn.com/2023/12/07/politics/famili...  \n",
       "1  https://www.cnn.com/2023/12/07/opinions/israel...  \n",
       "2  https://www.cnn.com/2023/12/07/tech/meta-overs...  \n",
       "3  https://www.cnn.com/middleeast/live-news/israe...  \n",
       "4  https://www.cnn.com/middleeast/live-news/israe...  "
      ]
     },
     "execution_count": 36,
     "metadata": {},
     "output_type": "execute_result"
    }
   ],
   "source": [
    "i_p_df.head()"
   ]
  },
  {
   "cell_type": "code",
   "execution_count": 59,
   "id": "52d57520",
   "metadata": {},
   "outputs": [],
   "source": [
    "i_p_df['Headline'] = i_p_df['Headline'].str.replace('Israel', '')\n",
    "i_p_df['Headline'] = i_p_df['Headline'].str.replace('Hamas', '')\n",
    "i_p_df['Headline'] = i_p_df['Headline'].str.replace('Gaza', '')\n",
    "i_p_df['Headline'] = i_p_df['Headline'].str.replace('Israeli', '')\n",
    "i_p_df['Headline'] = i_p_df['Headline'].str.replace('Palestine', '')\n",
    "i_p_df['Headline'] = i_p_df['Headline'].str.replace('Palestinian', '')\n"
   ]
  },
  {
   "cell_type": "code",
   "execution_count": 60,
   "id": "8ac99dee",
   "metadata": {},
   "outputs": [
    {
     "data": {
      "text/html": [
       "<div>\n",
       "<style scoped>\n",
       "    .dataframe tbody tr th:only-of-type {\n",
       "        vertical-align: middle;\n",
       "    }\n",
       "\n",
       "    .dataframe tbody tr th {\n",
       "        vertical-align: top;\n",
       "    }\n",
       "\n",
       "    .dataframe thead th {\n",
       "        text-align: right;\n",
       "    }\n",
       "</style>\n",
       "<table border=\"1\" class=\"dataframe\">\n",
       "  <thead>\n",
       "    <tr style=\"text-align: right;\">\n",
       "      <th></th>\n",
       "      <th>Date</th>\n",
       "      <th>Headline</th>\n",
       "      <th>Link</th>\n",
       "      <th>Headlines</th>\n",
       "    </tr>\n",
       "  </thead>\n",
       "  <tbody>\n",
       "    <tr>\n",
       "      <th>0</th>\n",
       "      <td>2023-12-07</td>\n",
       "      <td>Desperate families of i-American hostages plea...</td>\n",
       "      <td>https://www.cnn.com/2023/12/07/politics/famili...</td>\n",
       "      <td>Desperate families of Israeli-American hostage...</td>\n",
       "    </tr>\n",
       "    <tr>\n",
       "      <th>1</th>\n",
       "      <td>2023-12-07</td>\n",
       "      <td>Opinion: I reported on  in  for over a decade....</td>\n",
       "      <td>https://www.cnn.com/2023/12/07/opinions/israel...</td>\n",
       "      <td>Opinion: I reported on Hamas in Gaza for over ...</td>\n",
       "    </tr>\n",
       "    <tr>\n",
       "      <th>2</th>\n",
       "      <td>2023-12-07</td>\n",
       "      <td>Meta’s Oversight Board to weigh in on company’...</td>\n",
       "      <td>https://www.cnn.com/2023/12/07/tech/meta-overs...</td>\n",
       "      <td>Meta’s Oversight Board to weigh in on company’...</td>\n",
       "    </tr>\n",
       "    <tr>\n",
       "      <th>3</th>\n",
       "      <td>2023-12-07</td>\n",
       "      <td>December 5, 2023 - war</td>\n",
       "      <td>https://www.cnn.com/middleeast/live-news/israe...</td>\n",
       "      <td>December 5, 2023 Israel-Hamas war</td>\n",
       "    </tr>\n",
       "    <tr>\n",
       "      <th>4</th>\n",
       "      <td>2023-12-07</td>\n",
       "      <td>December 6, 2023 - war</td>\n",
       "      <td>https://www.cnn.com/middleeast/live-news/israe...</td>\n",
       "      <td>December 6, 2023 Israel-Hamas war</td>\n",
       "    </tr>\n",
       "  </tbody>\n",
       "</table>\n",
       "</div>"
      ],
      "text/plain": [
       "         Date                                           Headline  \\\n",
       "0  2023-12-07  Desperate families of i-American hostages plea...   \n",
       "1  2023-12-07  Opinion: I reported on  in  for over a decade....   \n",
       "2  2023-12-07  Meta’s Oversight Board to weigh in on company’...   \n",
       "3  2023-12-07                             December 5, 2023 - war   \n",
       "4  2023-12-07                             December 6, 2023 - war   \n",
       "\n",
       "                                                Link  \\\n",
       "0  https://www.cnn.com/2023/12/07/politics/famili...   \n",
       "1  https://www.cnn.com/2023/12/07/opinions/israel...   \n",
       "2  https://www.cnn.com/2023/12/07/tech/meta-overs...   \n",
       "3  https://www.cnn.com/middleeast/live-news/israe...   \n",
       "4  https://www.cnn.com/middleeast/live-news/israe...   \n",
       "\n",
       "                                           Headlines  \n",
       "0  Desperate families of Israeli-American hostage...  \n",
       "1  Opinion: I reported on Hamas in Gaza for over ...  \n",
       "2  Meta’s Oversight Board to weigh in on company’...  \n",
       "3                  December 5, 2023 Israel-Hamas war  \n",
       "4                  December 6, 2023 Israel-Hamas war  "
      ]
     },
     "execution_count": 60,
     "metadata": {},
     "output_type": "execute_result"
    }
   ],
   "source": [
    "i_p_df.head()"
   ]
  },
  {
   "cell_type": "code",
   "execution_count": 61,
   "id": "85aa5b3a",
   "metadata": {},
   "outputs": [
    {
     "data": {
      "text/plain": [
       "0    Desperate families of i-American hostages plea...\n",
       "1    Opinion: I reported on  in  for over a decade....\n",
       "2    Meta’s Oversight Board to weigh in on company’...\n",
       "3                               December 5, 2023 - war\n",
       "4                               December 6, 2023 - war\n",
       "Name: Headline, dtype: object"
      ]
     },
     "execution_count": 61,
     "metadata": {},
     "output_type": "execute_result"
    }
   ],
   "source": [
    "israel_palestine_titles_only = i_p_df['Headline']\n",
    "israel_palestine_titles_only.head()"
   ]
  },
  {
   "cell_type": "code",
   "execution_count": 63,
   "id": "d353af2b",
   "metadata": {},
   "outputs": [],
   "source": [
    "israel_palestine_titles_only.to_csv('ip_noplace.txt', sep='\\t', index = False)"
   ]
  },
  {
   "cell_type": "code",
   "execution_count": 7,
   "id": "97ccef47",
   "metadata": {},
   "outputs": [],
   "source": [
    "israel_palestine_titles_only.to_csv('israel_palestine.txt', sep='\\t', index =False)"
   ]
  },
  {
   "cell_type": "code",
   "execution_count": 8,
   "id": "89a1c2ff",
   "metadata": {},
   "outputs": [],
   "source": [
    "ru_df = pd.read_csv('project_data/russia_ukraine_conflict.csv', encoding = 'utf-8')"
   ]
  },
  {
   "cell_type": "code",
   "execution_count": 64,
   "id": "8bdc2b47",
   "metadata": {},
   "outputs": [],
   "source": [
    "ru_df['Headline'] = ru_df['Headline'].str.replace('Ukraine', '')\n",
    "ru_df['Headline'] = ru_df['Headline'].str.replace('Russia', '')\n",
    "ru_df['Headline'] = ru_df['Headline'].str.replace('Russian', '')\n",
    "ru_df['Headline'] = ru_df['Headline'].str.replace('Ukrainian', '')"
   ]
  },
  {
   "cell_type": "code",
   "execution_count": 65,
   "id": "4a0b1b62",
   "metadata": {},
   "outputs": [],
   "source": [
    "titles_only = ru_df['Headline']"
   ]
  },
  {
   "cell_type": "code",
   "execution_count": 66,
   "id": "b74199f9",
   "metadata": {},
   "outputs": [],
   "source": [
    "titles_only.to_csv('ru_nopalce.txt', sep='\\t', index=False)"
   ]
  },
  {
   "cell_type": "code",
   "execution_count": 10,
   "id": "522c4969",
   "metadata": {},
   "outputs": [],
   "source": [
    "titles_only.to_csv('russia_ukraine.txt', sep='\\t', index=False)"
   ]
  },
  {
   "cell_type": "code",
   "execution_count": 37,
   "id": "7d771533",
   "metadata": {},
   "outputs": [],
   "source": [
    "ispa_removed = israel_palestine_titles_only[israel_palestine_titles_only != 'Hamas']\n"
   ]
  },
  {
   "cell_type": "code",
   "execution_count": null,
   "id": "79a16938",
   "metadata": {},
   "outputs": [],
   "source": [
    "ispa_removed = israel_palestine_titles_only.str.replace(r'Hamas$', '')\n",
    "ispa_removed = israel_palestine_titles_only.str.replace(r'Gaza$', '')\n",
    "ispa_removed = israel_palestine_titles_only.str.replace(r'Palestine$', '')\n",
    "ispa_removed = israel_palestine_titles_only.str.replace(r'Israeli$', '')\n",
    "ispa_removed = israel_palestine_titles_only.str.replace(r'Palestinian$', '')\n",
    "ispa_removed = israel_palestine_titles_only.str.replace(r'Israel-Hamas$', '')"
   ]
  },
  {
   "cell_type": "code",
   "execution_count": 39,
   "id": "3a23a081",
   "metadata": {},
   "outputs": [
    {
     "data": {
      "text/plain": [
       "0    Desperate families of Israeli-American hostage...\n",
       "1    Opinion: I reported on Hamas in Gaza for over ...\n",
       "2    Meta’s Oversight Board to weigh in on company’...\n",
       "3                    December 5, 2023 Israel-Hamas war\n",
       "4                    December 6, 2023 Israel-Hamas war\n",
       "Name: Headline, dtype: object"
      ]
     },
     "execution_count": 39,
     "metadata": {},
     "output_type": "execute_result"
    }
   ],
   "source": [
    "ispa_removed.head()"
   ]
  },
  {
   "cell_type": "code",
   "execution_count": null,
   "id": "c80f69cc",
   "metadata": {},
   "outputs": [],
   "source": []
  }
 ],
 "metadata": {
  "kernelspec": {
   "display_name": "Python 3 (ipykernel)",
   "language": "python",
   "name": "python3"
  },
  "language_info": {
   "codemirror_mode": {
    "name": "ipython",
    "version": 3
   },
   "file_extension": ".py",
   "mimetype": "text/x-python",
   "name": "python",
   "nbconvert_exporter": "python",
   "pygments_lexer": "ipython3",
   "version": "3.11.4"
  }
 },
 "nbformat": 4,
 "nbformat_minor": 5
}
